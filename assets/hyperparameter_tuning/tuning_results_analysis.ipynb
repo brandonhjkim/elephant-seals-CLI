{
 "cells": [
  {
   "cell_type": "code",
   "execution_count": 1,
   "id": "2eb817c6",
   "metadata": {},
   "outputs": [],
   "source": [
    "import polars as pl"
   ]
  },
  {
   "cell_type": "code",
   "execution_count": 3,
   "id": "4927669f",
   "metadata": {},
   "outputs": [],
   "source": [
    "df = pl.read_parquet('full_results_with_date.parquet')"
   ]
  },
  {
   "cell_type": "code",
   "execution_count": 6,
   "id": "a006c9b4",
   "metadata": {},
   "outputs": [],
   "source": [
    "df = df.with_columns([\n",
    "    (pl.col(\"Combined\") - pl.col(\"Ground Truth\")).abs().alias(\"Abs Diff\")\n",
    "])"
   ]
  },
  {
   "cell_type": "code",
   "execution_count": 7,
   "id": "de364a9c",
   "metadata": {},
   "outputs": [
    {
     "data": {
      "text/plain": [
       "213003"
      ]
     },
     "execution_count": 7,
     "metadata": {},
     "output_type": "execute_result"
    }
   ],
   "source": [
    "len(df)"
   ]
  },
  {
   "cell_type": "code",
   "execution_count": 8,
   "id": "b6429d07",
   "metadata": {},
   "outputs": [
    {
     "data": {
      "text/html": [
       "<div><style>\n",
       ".dataframe > thead > tr,\n",
       ".dataframe > tbody > tr {\n",
       "  text-align: right;\n",
       "  white-space: pre-wrap;\n",
       "}\n",
       "</style>\n",
       "<small>shape: (5, 12)</small><table border=\"1\" class=\"dataframe\"><thead><tr><th>Beach</th><th>Image</th><th>Date</th><th>Seal Conf Lvl</th><th>Clump Conf Lvl</th><th>Overlap</th><th>Number of Clumps</th><th>Number of Seals</th><th>Number of Seals from Clumps</th><th>Combined</th><th>Ground Truth</th><th>Abs Diff</th></tr><tr><td>str</td><td>str</td><td>datetime[ns]</td><td>i64</td><td>i64</td><td>i64</td><td>i64</td><td>i64</td><td>i64</td><td>i64</td><td>i64</td><td>i64</td></tr></thead><tbody><tr><td>&quot;LN&quot;</td><td>&quot;DJI_0781&quot;</td><td>2023-02-13 06:48:24</td><td>10</td><td>10</td><td>10</td><td>0</td><td>95</td><td>0</td><td>95</td><td>50</td><td>45</td></tr><tr><td>&quot;LN&quot;</td><td>&quot;DJI_0781&quot;</td><td>2023-02-13 06:48:24</td><td>14</td><td>10</td><td>10</td><td>0</td><td>85</td><td>0</td><td>85</td><td>50</td><td>35</td></tr><tr><td>&quot;LN&quot;</td><td>&quot;DJI_0781&quot;</td><td>2023-02-13 06:48:24</td><td>18</td><td>10</td><td>10</td><td>0</td><td>75</td><td>0</td><td>75</td><td>50</td><td>25</td></tr><tr><td>&quot;LN&quot;</td><td>&quot;DJI_0781&quot;</td><td>2023-02-13 06:48:24</td><td>22</td><td>10</td><td>10</td><td>0</td><td>69</td><td>0</td><td>69</td><td>50</td><td>19</td></tr><tr><td>&quot;LN&quot;</td><td>&quot;DJI_0781&quot;</td><td>2023-02-13 06:48:24</td><td>26</td><td>10</td><td>10</td><td>0</td><td>63</td><td>0</td><td>63</td><td>50</td><td>13</td></tr></tbody></table></div>"
      ],
      "text/plain": [
       "shape: (5, 12)\n",
       "┌───────┬──────────┬──────────────┬───────────┬───┬────────────┬──────────┬────────┬──────────┐\n",
       "│ Beach ┆ Image    ┆ Date         ┆ Seal Conf ┆ … ┆ Number of  ┆ Combined ┆ Ground ┆ Abs Diff │\n",
       "│ ---   ┆ ---      ┆ ---          ┆ Lvl       ┆   ┆ Seals from ┆ ---      ┆ Truth  ┆ ---      │\n",
       "│ str   ┆ str      ┆ datetime[ns] ┆ ---       ┆   ┆ Clumps     ┆ i64      ┆ ---    ┆ i64      │\n",
       "│       ┆          ┆              ┆ i64       ┆   ┆ ---        ┆          ┆ i64    ┆          │\n",
       "│       ┆          ┆              ┆           ┆   ┆ i64        ┆          ┆        ┆          │\n",
       "╞═══════╪══════════╪══════════════╪═══════════╪═══╪════════════╪══════════╪════════╪══════════╡\n",
       "│ LN    ┆ DJI_0781 ┆ 2023-02-13   ┆ 10        ┆ … ┆ 0          ┆ 95       ┆ 50     ┆ 45       │\n",
       "│       ┆          ┆ 06:48:24     ┆           ┆   ┆            ┆          ┆        ┆          │\n",
       "│ LN    ┆ DJI_0781 ┆ 2023-02-13   ┆ 14        ┆ … ┆ 0          ┆ 85       ┆ 50     ┆ 35       │\n",
       "│       ┆          ┆ 06:48:24     ┆           ┆   ┆            ┆          ┆        ┆          │\n",
       "│ LN    ┆ DJI_0781 ┆ 2023-02-13   ┆ 18        ┆ … ┆ 0          ┆ 75       ┆ 50     ┆ 25       │\n",
       "│       ┆          ┆ 06:48:24     ┆           ┆   ┆            ┆          ┆        ┆          │\n",
       "│ LN    ┆ DJI_0781 ┆ 2023-02-13   ┆ 22        ┆ … ┆ 0          ┆ 69       ┆ 50     ┆ 19       │\n",
       "│       ┆          ┆ 06:48:24     ┆           ┆   ┆            ┆          ┆        ┆          │\n",
       "│ LN    ┆ DJI_0781 ┆ 2023-02-13   ┆ 26        ┆ … ┆ 0          ┆ 63       ┆ 50     ┆ 13       │\n",
       "│       ┆          ┆ 06:48:24     ┆           ┆   ┆            ┆          ┆        ┆          │\n",
       "└───────┴──────────┴──────────────┴───────────┴───┴────────────┴──────────┴────────┴──────────┘"
      ]
     },
     "execution_count": 8,
     "metadata": {},
     "output_type": "execute_result"
    }
   ],
   "source": [
    "df.head()"
   ]
  },
  {
   "cell_type": "code",
   "execution_count": 10,
   "id": "ab1f0816",
   "metadata": {},
   "outputs": [
    {
     "data": {
      "text/html": [
       "<div><style>\n",
       ".dataframe > thead > tr,\n",
       ".dataframe > tbody > tr {\n",
       "  text-align: right;\n",
       "  white-space: pre-wrap;\n",
       "}\n",
       "</style>\n",
       "<small>shape: (23, 4)</small><table border=\"1\" class=\"dataframe\"><thead><tr><th>Image</th><th>Best Seal Conf Lvl</th><th>Best Clump Conf Lvl</th><th>Smallest Abs Diff</th></tr><tr><td>str</td><td>i64</td><td>i64</td><td>i64</td></tr></thead><tbody><tr><td>&quot;DJI_0925&quot;</td><td>10</td><td>10</td><td>11</td></tr><tr><td>&quot;DJI_0223&quot;</td><td>38</td><td>10</td><td>0</td></tr><tr><td>&quot;DJI_0977&quot;</td><td>10</td><td>10</td><td>50</td></tr><tr><td>&quot;DJI_0786&quot;</td><td>38</td><td>10</td><td>0</td></tr><tr><td>&quot;DJI_0781&quot;</td><td>42</td><td>10</td><td>0</td></tr><tr><td>&hellip;</td><td>&hellip;</td><td>&hellip;</td><td>&hellip;</td></tr><tr><td>&quot;DJI_0789&quot;</td><td>30</td><td>10</td><td>0</td></tr><tr><td>&quot;DJI_0961&quot;</td><td>10</td><td>10</td><td>42</td></tr><tr><td>&quot;DJI_0944&quot;</td><td>10</td><td>10</td><td>0</td></tr><tr><td>&quot;DJI_0910&quot;</td><td>10</td><td>10</td><td>93</td></tr><tr><td>&quot;DJI_0788&quot;</td><td>50</td><td>10</td><td>0</td></tr></tbody></table></div>"
      ],
      "text/plain": [
       "shape: (23, 4)\n",
       "┌──────────┬────────────────────┬─────────────────────┬───────────────────┐\n",
       "│ Image    ┆ Best Seal Conf Lvl ┆ Best Clump Conf Lvl ┆ Smallest Abs Diff │\n",
       "│ ---      ┆ ---                ┆ ---                 ┆ ---               │\n",
       "│ str      ┆ i64                ┆ i64                 ┆ i64               │\n",
       "╞══════════╪════════════════════╪═════════════════════╪═══════════════════╡\n",
       "│ DJI_0925 ┆ 10                 ┆ 10                  ┆ 11                │\n",
       "│ DJI_0223 ┆ 38                 ┆ 10                  ┆ 0                 │\n",
       "│ DJI_0977 ┆ 10                 ┆ 10                  ┆ 50                │\n",
       "│ DJI_0786 ┆ 38                 ┆ 10                  ┆ 0                 │\n",
       "│ DJI_0781 ┆ 42                 ┆ 10                  ┆ 0                 │\n",
       "│ …        ┆ …                  ┆ …                   ┆ …                 │\n",
       "│ DJI_0789 ┆ 30                 ┆ 10                  ┆ 0                 │\n",
       "│ DJI_0961 ┆ 10                 ┆ 10                  ┆ 42                │\n",
       "│ DJI_0944 ┆ 10                 ┆ 10                  ┆ 0                 │\n",
       "│ DJI_0910 ┆ 10                 ┆ 10                  ┆ 93                │\n",
       "│ DJI_0788 ┆ 50                 ┆ 10                  ┆ 0                 │\n",
       "└──────────┴────────────────────┴─────────────────────┴───────────────────┘"
      ]
     },
     "execution_count": 10,
     "metadata": {},
     "output_type": "execute_result"
    }
   ],
   "source": [
    "df.sort(\"Abs Diff\").group_by(\"Image\").agg([\n",
    "          pl.first(\"Seal Conf Lvl\").alias(\"Best Seal Conf Lvl\"),\n",
    "          pl.first(\"Clump Conf Lvl\").alias(\"Best Clump Conf Lvl\"),\n",
    "          pl.first(\"Abs Diff\").alias(\"Smallest Abs Diff\")\n",
    "      ])"
   ]
  },
  {
   "cell_type": "code",
   "execution_count": 11,
   "id": "852dc9aa",
   "metadata": {},
   "outputs": [
    {
     "data": {
      "text/html": [
       "<div><style>\n",
       ".dataframe > thead > tr,\n",
       ".dataframe > tbody > tr {\n",
       "  text-align: right;\n",
       "  white-space: pre-wrap;\n",
       "}\n",
       "</style>\n",
       "<small>shape: (3, 5)</small><table border=\"1\" class=\"dataframe\"><thead><tr><th>Beach</th><th>Best Seal Conf Lvl</th><th>Best Clump Conf Lvl</th><th>Best Overlap</th><th>Smallest Mean Abs Diff</th></tr><tr><td>str</td><td>i64</td><td>i64</td><td>i64</td><td>f64</td></tr></thead><tbody><tr><td>&quot;LS&quot;</td><td>10</td><td>78</td><td>90</td><td>43.846154</td></tr><tr><td>&quot;DC&quot;</td><td>14</td><td>58</td><td>42</td><td>5.2</td></tr><tr><td>&quot;LN&quot;</td><td>42</td><td>38</td><td>34</td><td>2.2</td></tr></tbody></table></div>"
      ],
      "text/plain": [
       "shape: (3, 5)\n",
       "┌───────┬────────────────────┬─────────────────────┬──────────────┬────────────────────────┐\n",
       "│ Beach ┆ Best Seal Conf Lvl ┆ Best Clump Conf Lvl ┆ Best Overlap ┆ Smallest Mean Abs Diff │\n",
       "│ ---   ┆ ---                ┆ ---                 ┆ ---          ┆ ---                    │\n",
       "│ str   ┆ i64                ┆ i64                 ┆ i64          ┆ f64                    │\n",
       "╞═══════╪════════════════════╪═════════════════════╪══════════════╪════════════════════════╡\n",
       "│ LS    ┆ 10                 ┆ 78                  ┆ 90           ┆ 43.846154              │\n",
       "│ DC    ┆ 14                 ┆ 58                  ┆ 42           ┆ 5.2                    │\n",
       "│ LN    ┆ 42                 ┆ 38                  ┆ 34           ┆ 2.2                    │\n",
       "└───────┴────────────────────┴─────────────────────┴──────────────┴────────────────────────┘"
      ]
     },
     "execution_count": 11,
     "metadata": {},
     "output_type": "execute_result"
    }
   ],
   "source": [
    "df.group_by([\"Beach\", \"Seal Conf Lvl\", \"Clump Conf Lvl\", \"Overlap\"]).agg([\n",
    "          pl.mean(\"Abs Diff\").alias(\"Mean Abs Diff\")\n",
    "      ]).sort(\"Mean Abs Diff\").group_by(\"Beach\").agg([\n",
    "               pl.first(\"Seal Conf Lvl\").alias(\"Best Seal Conf Lvl\"),\n",
    "               pl.first(\"Clump Conf Lvl\").alias(\"Best Clump Conf Lvl\"),\n",
    "               pl.first(\"Overlap\").alias(\"Best Overlap\"),\n",
    "               pl.first(\"Mean Abs Diff\").alias(\"Smallest Mean Abs Diff\")\n",
    "           ])"
   ]
  },
  {
   "cell_type": "code",
   "execution_count": 13,
   "id": "eb859ed2",
   "metadata": {},
   "outputs": [
    {
     "data": {
      "text/html": [
       "<div><style>\n",
       ".dataframe > thead > tr,\n",
       ".dataframe > tbody > tr {\n",
       "  text-align: right;\n",
       "  white-space: pre-wrap;\n",
       "}\n",
       "</style>\n",
       "<small>shape: (5, 12)</small><table border=\"1\" class=\"dataframe\"><thead><tr><th>Beach</th><th>Image</th><th>Date</th><th>Seal Conf Lvl</th><th>Clump Conf Lvl</th><th>Overlap</th><th>Number of Clumps</th><th>Number of Seals</th><th>Number of Seals from Clumps</th><th>Combined</th><th>Ground Truth</th><th>Abs Diff</th></tr><tr><td>str</td><td>str</td><td>datetime[ns]</td><td>i64</td><td>i64</td><td>i64</td><td>i64</td><td>i64</td><td>i64</td><td>i64</td><td>i64</td><td>i64</td></tr></thead><tbody><tr><td>&quot;LN&quot;</td><td>&quot;DJI_0781&quot;</td><td>2023-02-13 06:48:24</td><td>42</td><td>38</td><td>34</td><td>0</td><td>50</td><td>0</td><td>50</td><td>50</td><td>0</td></tr><tr><td>&quot;LN&quot;</td><td>&quot;DJI_0783&quot;</td><td>2023-02-13 06:48:36</td><td>42</td><td>38</td><td>34</td><td>0</td><td>12</td><td>0</td><td>12</td><td>9</td><td>3</td></tr><tr><td>&quot;LN&quot;</td><td>&quot;DJI_0786&quot;</td><td>2023-02-13 06:49:08</td><td>42</td><td>38</td><td>34</td><td>0</td><td>3</td><td>0</td><td>3</td><td>3</td><td>0</td></tr><tr><td>&quot;LN&quot;</td><td>&quot;DJI_0788&quot;</td><td>2023-02-13 06:49:44</td><td>42</td><td>38</td><td>34</td><td>0</td><td>27</td><td>0</td><td>27</td><td>19</td><td>8</td></tr><tr><td>&quot;LN&quot;</td><td>&quot;DJI_0789&quot;</td><td>2023-02-13 06:49:50</td><td>42</td><td>38</td><td>34</td><td>0</td><td>41</td><td>0</td><td>41</td><td>41</td><td>0</td></tr></tbody></table></div>"
      ],
      "text/plain": [
       "shape: (5, 12)\n",
       "┌───────┬──────────┬──────────────┬───────────┬───┬────────────┬──────────┬────────┬──────────┐\n",
       "│ Beach ┆ Image    ┆ Date         ┆ Seal Conf ┆ … ┆ Number of  ┆ Combined ┆ Ground ┆ Abs Diff │\n",
       "│ ---   ┆ ---      ┆ ---          ┆ Lvl       ┆   ┆ Seals from ┆ ---      ┆ Truth  ┆ ---      │\n",
       "│ str   ┆ str      ┆ datetime[ns] ┆ ---       ┆   ┆ Clumps     ┆ i64      ┆ ---    ┆ i64      │\n",
       "│       ┆          ┆              ┆ i64       ┆   ┆ ---        ┆          ┆ i64    ┆          │\n",
       "│       ┆          ┆              ┆           ┆   ┆ i64        ┆          ┆        ┆          │\n",
       "╞═══════╪══════════╪══════════════╪═══════════╪═══╪════════════╪══════════╪════════╪══════════╡\n",
       "│ LN    ┆ DJI_0781 ┆ 2023-02-13   ┆ 42        ┆ … ┆ 0          ┆ 50       ┆ 50     ┆ 0        │\n",
       "│       ┆          ┆ 06:48:24     ┆           ┆   ┆            ┆          ┆        ┆          │\n",
       "│ LN    ┆ DJI_0783 ┆ 2023-02-13   ┆ 42        ┆ … ┆ 0          ┆ 12       ┆ 9      ┆ 3        │\n",
       "│       ┆          ┆ 06:48:36     ┆           ┆   ┆            ┆          ┆        ┆          │\n",
       "│ LN    ┆ DJI_0786 ┆ 2023-02-13   ┆ 42        ┆ … ┆ 0          ┆ 3        ┆ 3      ┆ 0        │\n",
       "│       ┆          ┆ 06:49:08     ┆           ┆   ┆            ┆          ┆        ┆          │\n",
       "│ LN    ┆ DJI_0788 ┆ 2023-02-13   ┆ 42        ┆ … ┆ 0          ┆ 27       ┆ 19     ┆ 8        │\n",
       "│       ┆          ┆ 06:49:44     ┆           ┆   ┆            ┆          ┆        ┆          │\n",
       "│ LN    ┆ DJI_0789 ┆ 2023-02-13   ┆ 42        ┆ … ┆ 0          ┆ 41       ┆ 41     ┆ 0        │\n",
       "│       ┆          ┆ 06:49:50     ┆           ┆   ┆            ┆          ┆        ┆          │\n",
       "└───────┴──────────┴──────────────┴───────────┴───┴────────────┴──────────┴────────┴──────────┘"
      ]
     },
     "execution_count": 13,
     "metadata": {},
     "output_type": "execute_result"
    }
   ],
   "source": [
    "df.filter((pl.col('Beach') == 'LN') & (pl.col('Seal Conf Lvl') == 42) & (pl.col('Clump Conf Lvl') == 38) & (pl.col('Overlap') == 34))"
   ]
  },
  {
   "cell_type": "code",
   "execution_count": 14,
   "id": "f4b21d3e",
   "metadata": {},
   "outputs": [
    {
     "data": {
      "text/html": [
       "<div><style>\n",
       ".dataframe > thead > tr,\n",
       ".dataframe > tbody > tr {\n",
       "  text-align: right;\n",
       "  white-space: pre-wrap;\n",
       "}\n",
       "</style>\n",
       "<small>shape: (5, 12)</small><table border=\"1\" class=\"dataframe\"><thead><tr><th>Beach</th><th>Image</th><th>Date</th><th>Seal Conf Lvl</th><th>Clump Conf Lvl</th><th>Overlap</th><th>Number of Clumps</th><th>Number of Seals</th><th>Number of Seals from Clumps</th><th>Combined</th><th>Ground Truth</th><th>Abs Diff</th></tr><tr><td>str</td><td>str</td><td>datetime[ns]</td><td>i64</td><td>i64</td><td>i64</td><td>i64</td><td>i64</td><td>i64</td><td>i64</td><td>i64</td><td>i64</td></tr></thead><tbody><tr><td>&quot;DC&quot;</td><td>&quot;DJI_0124&quot;</td><td>2023-02-18 07:00:53</td><td>14</td><td>58</td><td>42</td><td>0</td><td>127</td><td>0</td><td>127</td><td>126</td><td>1</td></tr><tr><td>&quot;DC&quot;</td><td>&quot;DJI_0129&quot;</td><td>2023-02-18 07:01:20</td><td>14</td><td>58</td><td>42</td><td>0</td><td>53</td><td>0</td><td>53</td><td>52</td><td>1</td></tr><tr><td>&quot;DC&quot;</td><td>&quot;DJI_0177&quot;</td><td>2023-02-18 07:09:46</td><td>14</td><td>58</td><td>42</td><td>0</td><td>91</td><td>0</td><td>91</td><td>100</td><td>9</td></tr><tr><td>&quot;DC&quot;</td><td>&quot;DJI_0209&quot;</td><td>2023-02-18 07:13:45</td><td>14</td><td>58</td><td>42</td><td>0</td><td>44</td><td>0</td><td>44</td><td>46</td><td>2</td></tr><tr><td>&quot;DC&quot;</td><td>&quot;DJI_0223&quot;</td><td>2023-02-18 07:15:28</td><td>14</td><td>58</td><td>42</td><td>0</td><td>20</td><td>0</td><td>20</td><td>7</td><td>13</td></tr></tbody></table></div>"
      ],
      "text/plain": [
       "shape: (5, 12)\n",
       "┌───────┬──────────┬──────────────┬───────────┬───┬────────────┬──────────┬────────┬──────────┐\n",
       "│ Beach ┆ Image    ┆ Date         ┆ Seal Conf ┆ … ┆ Number of  ┆ Combined ┆ Ground ┆ Abs Diff │\n",
       "│ ---   ┆ ---      ┆ ---          ┆ Lvl       ┆   ┆ Seals from ┆ ---      ┆ Truth  ┆ ---      │\n",
       "│ str   ┆ str      ┆ datetime[ns] ┆ ---       ┆   ┆ Clumps     ┆ i64      ┆ ---    ┆ i64      │\n",
       "│       ┆          ┆              ┆ i64       ┆   ┆ ---        ┆          ┆ i64    ┆          │\n",
       "│       ┆          ┆              ┆           ┆   ┆ i64        ┆          ┆        ┆          │\n",
       "╞═══════╪══════════╪══════════════╪═══════════╪═══╪════════════╪══════════╪════════╪══════════╡\n",
       "│ DC    ┆ DJI_0124 ┆ 2023-02-18   ┆ 14        ┆ … ┆ 0          ┆ 127      ┆ 126    ┆ 1        │\n",
       "│       ┆          ┆ 07:00:53     ┆           ┆   ┆            ┆          ┆        ┆          │\n",
       "│ DC    ┆ DJI_0129 ┆ 2023-02-18   ┆ 14        ┆ … ┆ 0          ┆ 53       ┆ 52     ┆ 1        │\n",
       "│       ┆          ┆ 07:01:20     ┆           ┆   ┆            ┆          ┆        ┆          │\n",
       "│ DC    ┆ DJI_0177 ┆ 2023-02-18   ┆ 14        ┆ … ┆ 0          ┆ 91       ┆ 100    ┆ 9        │\n",
       "│       ┆          ┆ 07:09:46     ┆           ┆   ┆            ┆          ┆        ┆          │\n",
       "│ DC    ┆ DJI_0209 ┆ 2023-02-18   ┆ 14        ┆ … ┆ 0          ┆ 44       ┆ 46     ┆ 2        │\n",
       "│       ┆          ┆ 07:13:45     ┆           ┆   ┆            ┆          ┆        ┆          │\n",
       "│ DC    ┆ DJI_0223 ┆ 2023-02-18   ┆ 14        ┆ … ┆ 0          ┆ 20       ┆ 7      ┆ 13       │\n",
       "│       ┆          ┆ 07:15:28     ┆           ┆   ┆            ┆          ┆        ┆          │\n",
       "└───────┴──────────┴──────────────┴───────────┴───┴────────────┴──────────┴────────┴──────────┘"
      ]
     },
     "execution_count": 14,
     "metadata": {},
     "output_type": "execute_result"
    }
   ],
   "source": [
    "df.filter((pl.col('Beach') == 'DC') & (pl.col('Seal Conf Lvl') == 14) & (pl.col('Clump Conf Lvl') == 58) & (pl.col('Overlap') == 42))"
   ]
  },
  {
   "cell_type": "code",
   "execution_count": 15,
   "id": "5a71fea6",
   "metadata": {},
   "outputs": [
    {
     "data": {
      "text/html": [
       "<div><style>\n",
       ".dataframe > thead > tr,\n",
       ".dataframe > tbody > tr {\n",
       "  text-align: right;\n",
       "  white-space: pre-wrap;\n",
       "}\n",
       "</style>\n",
       "<small>shape: (3, 5)</small><table border=\"1\" class=\"dataframe\"><thead><tr><th>Beach</th><th>Best Seal Conf Lvl</th><th>Best Clump Conf Lvl</th><th>Best Overlap</th><th>Smallest Mean Abs Diff</th></tr><tr><td>str</td><td>i64</td><td>i64</td><td>i64</td><td>i64</td></tr></thead><tbody><tr><td>&quot;DC&quot;</td><td>18</td><td>42</td><td>46</td><td>12</td></tr><tr><td>&quot;LN&quot;</td><td>42</td><td>74</td><td>18</td><td>4</td></tr><tr><td>&quot;LS&quot;</td><td>10</td><td>46</td><td>90</td><td>104</td></tr></tbody></table></div>"
      ],
      "text/plain": [
       "shape: (3, 5)\n",
       "┌───────┬────────────────────┬─────────────────────┬──────────────┬────────────────────────┐\n",
       "│ Beach ┆ Best Seal Conf Lvl ┆ Best Clump Conf Lvl ┆ Best Overlap ┆ Smallest Mean Abs Diff │\n",
       "│ ---   ┆ ---                ┆ ---                 ┆ ---          ┆ ---                    │\n",
       "│ str   ┆ i64                ┆ i64                 ┆ i64          ┆ i64                    │\n",
       "╞═══════╪════════════════════╪═════════════════════╪══════════════╪════════════════════════╡\n",
       "│ DC    ┆ 18                 ┆ 42                  ┆ 46           ┆ 12                     │\n",
       "│ LN    ┆ 42                 ┆ 74                  ┆ 18           ┆ 4                      │\n",
       "│ LS    ┆ 10                 ┆ 46                  ┆ 90           ┆ 104                    │\n",
       "└───────┴────────────────────┴─────────────────────┴──────────────┴────────────────────────┘"
      ]
     },
     "execution_count": 15,
     "metadata": {},
     "output_type": "execute_result"
    }
   ],
   "source": [
    "df.group_by([\"Beach\", \"Seal Conf Lvl\", \"Clump Conf Lvl\", \"Overlap\"]).agg([\n",
    "          pl.max(\"Abs Diff\").alias(\"Mean Abs Diff\")\n",
    "      ]).sort(\"Mean Abs Diff\").group_by(\"Beach\").agg([\n",
    "               pl.first(\"Seal Conf Lvl\").alias(\"Best Seal Conf Lvl\"),\n",
    "               pl.first(\"Clump Conf Lvl\").alias(\"Best Clump Conf Lvl\"),\n",
    "               pl.first(\"Overlap\").alias(\"Best Overlap\"),\n",
    "               pl.first(\"Mean Abs Diff\").alias(\"Smallest Mean Abs Diff\")\n",
    "           ])"
   ]
  },
  {
   "cell_type": "code",
   "execution_count": 16,
   "id": "b3149f27",
   "metadata": {},
   "outputs": [
    {
     "data": {
      "text/html": [
       "<div><style>\n",
       ".dataframe > thead > tr,\n",
       ".dataframe > tbody > tr {\n",
       "  text-align: right;\n",
       "  white-space: pre-wrap;\n",
       "}\n",
       "</style>\n",
       "<small>shape: (5, 12)</small><table border=\"1\" class=\"dataframe\"><thead><tr><th>Beach</th><th>Image</th><th>Date</th><th>Seal Conf Lvl</th><th>Clump Conf Lvl</th><th>Overlap</th><th>Number of Clumps</th><th>Number of Seals</th><th>Number of Seals from Clumps</th><th>Combined</th><th>Ground Truth</th><th>Abs Diff</th></tr><tr><td>str</td><td>str</td><td>datetime[ns]</td><td>i64</td><td>i64</td><td>i64</td><td>i64</td><td>i64</td><td>i64</td><td>i64</td><td>i64</td><td>i64</td></tr></thead><tbody><tr><td>&quot;LN&quot;</td><td>&quot;DJI_0781&quot;</td><td>2023-02-13 06:48:24</td><td>42</td><td>74</td><td>18</td><td>0</td><td>46</td><td>0</td><td>46</td><td>50</td><td>4</td></tr><tr><td>&quot;LN&quot;</td><td>&quot;DJI_0783&quot;</td><td>2023-02-13 06:48:36</td><td>42</td><td>74</td><td>18</td><td>0</td><td>12</td><td>0</td><td>12</td><td>9</td><td>3</td></tr><tr><td>&quot;LN&quot;</td><td>&quot;DJI_0786&quot;</td><td>2023-02-13 06:49:08</td><td>42</td><td>74</td><td>18</td><td>0</td><td>3</td><td>0</td><td>3</td><td>3</td><td>0</td></tr><tr><td>&quot;LN&quot;</td><td>&quot;DJI_0788&quot;</td><td>2023-02-13 06:49:44</td><td>42</td><td>74</td><td>18</td><td>0</td><td>23</td><td>0</td><td>23</td><td>19</td><td>4</td></tr><tr><td>&quot;LN&quot;</td><td>&quot;DJI_0789&quot;</td><td>2023-02-13 06:49:50</td><td>42</td><td>74</td><td>18</td><td>0</td><td>37</td><td>0</td><td>37</td><td>41</td><td>4</td></tr></tbody></table></div>"
      ],
      "text/plain": [
       "shape: (5, 12)\n",
       "┌───────┬──────────┬──────────────┬───────────┬───┬────────────┬──────────┬────────┬──────────┐\n",
       "│ Beach ┆ Image    ┆ Date         ┆ Seal Conf ┆ … ┆ Number of  ┆ Combined ┆ Ground ┆ Abs Diff │\n",
       "│ ---   ┆ ---      ┆ ---          ┆ Lvl       ┆   ┆ Seals from ┆ ---      ┆ Truth  ┆ ---      │\n",
       "│ str   ┆ str      ┆ datetime[ns] ┆ ---       ┆   ┆ Clumps     ┆ i64      ┆ ---    ┆ i64      │\n",
       "│       ┆          ┆              ┆ i64       ┆   ┆ ---        ┆          ┆ i64    ┆          │\n",
       "│       ┆          ┆              ┆           ┆   ┆ i64        ┆          ┆        ┆          │\n",
       "╞═══════╪══════════╪══════════════╪═══════════╪═══╪════════════╪══════════╪════════╪══════════╡\n",
       "│ LN    ┆ DJI_0781 ┆ 2023-02-13   ┆ 42        ┆ … ┆ 0          ┆ 46       ┆ 50     ┆ 4        │\n",
       "│       ┆          ┆ 06:48:24     ┆           ┆   ┆            ┆          ┆        ┆          │\n",
       "│ LN    ┆ DJI_0783 ┆ 2023-02-13   ┆ 42        ┆ … ┆ 0          ┆ 12       ┆ 9      ┆ 3        │\n",
       "│       ┆          ┆ 06:48:36     ┆           ┆   ┆            ┆          ┆        ┆          │\n",
       "│ LN    ┆ DJI_0786 ┆ 2023-02-13   ┆ 42        ┆ … ┆ 0          ┆ 3        ┆ 3      ┆ 0        │\n",
       "│       ┆          ┆ 06:49:08     ┆           ┆   ┆            ┆          ┆        ┆          │\n",
       "│ LN    ┆ DJI_0788 ┆ 2023-02-13   ┆ 42        ┆ … ┆ 0          ┆ 23       ┆ 19     ┆ 4        │\n",
       "│       ┆          ┆ 06:49:44     ┆           ┆   ┆            ┆          ┆        ┆          │\n",
       "│ LN    ┆ DJI_0789 ┆ 2023-02-13   ┆ 42        ┆ … ┆ 0          ┆ 37       ┆ 41     ┆ 4        │\n",
       "│       ┆          ┆ 06:49:50     ┆           ┆   ┆            ┆          ┆        ┆          │\n",
       "└───────┴──────────┴──────────────┴───────────┴───┴────────────┴──────────┴────────┴──────────┘"
      ]
     },
     "execution_count": 16,
     "metadata": {},
     "output_type": "execute_result"
    }
   ],
   "source": [
    "df.filter((pl.col('Beach') == 'LN') & (pl.col('Seal Conf Lvl') == 42) & (pl.col('Clump Conf Lvl') == 74) & (pl.col('Overlap') == 18))"
   ]
  },
  {
   "cell_type": "code",
   "execution_count": 17,
   "id": "d075abd4",
   "metadata": {},
   "outputs": [
    {
     "data": {
      "text/html": [
       "<div><style>\n",
       ".dataframe > thead > tr,\n",
       ".dataframe > tbody > tr {\n",
       "  text-align: right;\n",
       "  white-space: pre-wrap;\n",
       "}\n",
       "</style>\n",
       "<small>shape: (5, 12)</small><table border=\"1\" class=\"dataframe\"><thead><tr><th>Beach</th><th>Image</th><th>Date</th><th>Seal Conf Lvl</th><th>Clump Conf Lvl</th><th>Overlap</th><th>Number of Clumps</th><th>Number of Seals</th><th>Number of Seals from Clumps</th><th>Combined</th><th>Ground Truth</th><th>Abs Diff</th></tr><tr><td>str</td><td>str</td><td>datetime[ns]</td><td>i64</td><td>i64</td><td>i64</td><td>i64</td><td>i64</td><td>i64</td><td>i64</td><td>i64</td><td>i64</td></tr></thead><tbody><tr><td>&quot;DC&quot;</td><td>&quot;DJI_0124&quot;</td><td>2023-02-18 07:00:53</td><td>18</td><td>42</td><td>46</td><td>0</td><td>124</td><td>0</td><td>124</td><td>126</td><td>2</td></tr><tr><td>&quot;DC&quot;</td><td>&quot;DJI_0129&quot;</td><td>2023-02-18 07:01:20</td><td>18</td><td>42</td><td>46</td><td>0</td><td>52</td><td>0</td><td>52</td><td>52</td><td>0</td></tr><tr><td>&quot;DC&quot;</td><td>&quot;DJI_0177&quot;</td><td>2023-02-18 07:09:46</td><td>18</td><td>42</td><td>46</td><td>0</td><td>91</td><td>0</td><td>91</td><td>100</td><td>9</td></tr><tr><td>&quot;DC&quot;</td><td>&quot;DJI_0209&quot;</td><td>2023-02-18 07:13:45</td><td>18</td><td>42</td><td>46</td><td>0</td><td>34</td><td>0</td><td>34</td><td>46</td><td>12</td></tr><tr><td>&quot;DC&quot;</td><td>&quot;DJI_0223&quot;</td><td>2023-02-18 07:15:28</td><td>18</td><td>42</td><td>46</td><td>0</td><td>19</td><td>0</td><td>19</td><td>7</td><td>12</td></tr></tbody></table></div>"
      ],
      "text/plain": [
       "shape: (5, 12)\n",
       "┌───────┬──────────┬──────────────┬───────────┬───┬────────────┬──────────┬────────┬──────────┐\n",
       "│ Beach ┆ Image    ┆ Date         ┆ Seal Conf ┆ … ┆ Number of  ┆ Combined ┆ Ground ┆ Abs Diff │\n",
       "│ ---   ┆ ---      ┆ ---          ┆ Lvl       ┆   ┆ Seals from ┆ ---      ┆ Truth  ┆ ---      │\n",
       "│ str   ┆ str      ┆ datetime[ns] ┆ ---       ┆   ┆ Clumps     ┆ i64      ┆ ---    ┆ i64      │\n",
       "│       ┆          ┆              ┆ i64       ┆   ┆ ---        ┆          ┆ i64    ┆          │\n",
       "│       ┆          ┆              ┆           ┆   ┆ i64        ┆          ┆        ┆          │\n",
       "╞═══════╪══════════╪══════════════╪═══════════╪═══╪════════════╪══════════╪════════╪══════════╡\n",
       "│ DC    ┆ DJI_0124 ┆ 2023-02-18   ┆ 18        ┆ … ┆ 0          ┆ 124      ┆ 126    ┆ 2        │\n",
       "│       ┆          ┆ 07:00:53     ┆           ┆   ┆            ┆          ┆        ┆          │\n",
       "│ DC    ┆ DJI_0129 ┆ 2023-02-18   ┆ 18        ┆ … ┆ 0          ┆ 52       ┆ 52     ┆ 0        │\n",
       "│       ┆          ┆ 07:01:20     ┆           ┆   ┆            ┆          ┆        ┆          │\n",
       "│ DC    ┆ DJI_0177 ┆ 2023-02-18   ┆ 18        ┆ … ┆ 0          ┆ 91       ┆ 100    ┆ 9        │\n",
       "│       ┆          ┆ 07:09:46     ┆           ┆   ┆            ┆          ┆        ┆          │\n",
       "│ DC    ┆ DJI_0209 ┆ 2023-02-18   ┆ 18        ┆ … ┆ 0          ┆ 34       ┆ 46     ┆ 12       │\n",
       "│       ┆          ┆ 07:13:45     ┆           ┆   ┆            ┆          ┆        ┆          │\n",
       "│ DC    ┆ DJI_0223 ┆ 2023-02-18   ┆ 18        ┆ … ┆ 0          ┆ 19       ┆ 7      ┆ 12       │\n",
       "│       ┆          ┆ 07:15:28     ┆           ┆   ┆            ┆          ┆        ┆          │\n",
       "└───────┴──────────┴──────────────┴───────────┴───┴────────────┴──────────┴────────┴──────────┘"
      ]
     },
     "execution_count": 17,
     "metadata": {},
     "output_type": "execute_result"
    }
   ],
   "source": [
    "df.filter((pl.col('Beach') == 'DC') & (pl.col('Seal Conf Lvl') == 18) & (pl.col('Clump Conf Lvl') == 42) & (pl.col('Overlap') == 46))"
   ]
  }
 ],
 "metadata": {
  "kernelspec": {
   "display_name": "Python 3",
   "language": "python",
   "name": "python3"
  },
  "language_info": {
   "codemirror_mode": {
    "name": "ipython",
    "version": 3
   },
   "file_extension": ".py",
   "mimetype": "text/x-python",
   "name": "python",
   "nbconvert_exporter": "python",
   "pygments_lexer": "ipython3",
   "version": "3.10.4"
  }
 },
 "nbformat": 4,
 "nbformat_minor": 5
}
