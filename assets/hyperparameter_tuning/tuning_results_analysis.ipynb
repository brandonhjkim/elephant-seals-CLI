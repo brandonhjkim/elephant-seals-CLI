{
 "cells": [
  {
   "cell_type": "code",
   "execution_count": 1,
   "id": "2eb817c6",
   "metadata": {},
   "outputs": [],
   "source": [
    "import polars as pl"
   ]
  },
  {
   "cell_type": "code",
   "execution_count": 3,
   "id": "4927669f",
   "metadata": {},
   "outputs": [],
   "source": [
    "df = pl.read_parquet('full_metrics.parquet')"
   ]
  },
  {
   "cell_type": "code",
   "execution_count": 13,
   "id": "de364a9c",
   "metadata": {},
   "outputs": [
    {
     "data": {
      "text/plain": [
       "2824975"
      ]
     },
     "execution_count": 13,
     "metadata": {},
     "output_type": "execute_result"
    }
   ],
   "source": [
    "len(df)"
   ]
  },
  {
   "cell_type": "code",
   "execution_count": null,
   "id": "eed75117",
   "metadata": {},
   "outputs": [],
   "source": [
    "medians = df.group_by(\n",
    "    ['Seal Conf Lvl', \n",
    "     'Clump Conf Lvl', \n",
    "     'Overlap', \n",
    "     'Clump Threshold', \n",
    "     'Beach']\n",
    "    ).median().select([\n",
    "      'Seal Conf Lvl', \n",
    "      'Clump Conf Lvl', \n",
    "      'Overlap', \n",
    "      'Clump Threshold', \n",
    "      'Beach', \n",
    "      pl.col('Prop Diff').alias('Median Prop Diff')\n",
    "  ])"
   ]
  },
  {
   "cell_type": "code",
   "execution_count": 8,
   "id": "48c0df34",
   "metadata": {},
   "outputs": [
    {
     "data": {
      "text/html": [
       "<div><style>\n",
       ".dataframe > thead > tr,\n",
       ".dataframe > tbody > tr {\n",
       "  text-align: right;\n",
       "  white-space: pre-wrap;\n",
       "}\n",
       "</style>\n",
       "<small>shape: (3, 6)</small><table border=\"1\" class=\"dataframe\"><thead><tr><th>Beach</th><th>Seal Conf Lvl</th><th>Clump Conf Lvl</th><th>Overlap</th><th>Clump Threshold</th><th>Median Prop Diff</th></tr><tr><td>str</td><td>i64</td><td>i64</td><td>i64</td><td>i64</td><td>f64</td></tr></thead><tbody><tr><td>&quot;LN&quot;</td><td>40</td><td>75</td><td>30</td><td>22</td><td>0.02</td></tr><tr><td>&quot;LS&quot;</td><td>10</td><td>35</td><td>90</td><td>14</td><td>0.472727</td></tr><tr><td>&quot;DC&quot;</td><td>35</td><td>50</td><td>80</td><td>4</td><td>0.02</td></tr></tbody></table></div>"
      ],
      "text/plain": [
       "shape: (3, 6)\n",
       "┌───────┬───────────────┬────────────────┬─────────┬─────────────────┬──────────────────┐\n",
       "│ Beach ┆ Seal Conf Lvl ┆ Clump Conf Lvl ┆ Overlap ┆ Clump Threshold ┆ Median Prop Diff │\n",
       "│ ---   ┆ ---           ┆ ---            ┆ ---     ┆ ---             ┆ ---              │\n",
       "│ str   ┆ i64           ┆ i64            ┆ i64     ┆ i64             ┆ f64              │\n",
       "╞═══════╪═══════════════╪════════════════╪═════════╪═════════════════╪══════════════════╡\n",
       "│ LN    ┆ 40            ┆ 75             ┆ 30      ┆ 22              ┆ 0.02             │\n",
       "│ LS    ┆ 10            ┆ 35             ┆ 90      ┆ 14              ┆ 0.472727         │\n",
       "│ DC    ┆ 35            ┆ 50             ┆ 80      ┆ 4               ┆ 0.02             │\n",
       "└───────┴───────────────┴────────────────┴─────────┴─────────────────┴──────────────────┘"
      ]
     },
     "execution_count": 8,
     "metadata": {},
     "output_type": "execute_result"
    }
   ],
   "source": [
    "medians.sort('Median Prop Diff').group_by('Beach').first()"
   ]
  },
  {
   "cell_type": "code",
   "execution_count": 11,
   "id": "8bd2758c",
   "metadata": {},
   "outputs": [],
   "source": [
    "means = df.group_by(\n",
    "    ['Seal Conf Lvl', \n",
    "     'Clump Conf Lvl', \n",
    "     'Overlap', \n",
    "     'Clump Threshold', \n",
    "     'Beach']\n",
    "    ).mean().select([\n",
    "      'Seal Conf Lvl', \n",
    "      'Clump Conf Lvl', \n",
    "      'Overlap', \n",
    "      'Clump Threshold', \n",
    "      'Beach', \n",
    "      pl.col('Prop Diff').alias('Mean Prop Diff')\n",
    "  ])"
   ]
  },
  {
   "cell_type": "code",
   "execution_count": 12,
   "id": "9beb1029",
   "metadata": {},
   "outputs": [
    {
     "data": {
      "text/html": [
       "<div><style>\n",
       ".dataframe > thead > tr,\n",
       ".dataframe > tbody > tr {\n",
       "  text-align: right;\n",
       "  white-space: pre-wrap;\n",
       "}\n",
       "</style>\n",
       "<small>shape: (3, 6)</small><table border=\"1\" class=\"dataframe\"><thead><tr><th>Beach</th><th>Seal Conf Lvl</th><th>Clump Conf Lvl</th><th>Overlap</th><th>Clump Threshold</th><th>Mean Prop Diff</th></tr><tr><td>str</td><td>i64</td><td>i64</td><td>i64</td><td>i64</td><td>f64</td></tr></thead><tbody><tr><td>&quot;LS&quot;</td><td>10</td><td>25</td><td>90</td><td>18</td><td>0.370589</td></tr><tr><td>&quot;LN&quot;</td><td>40</td><td>20</td><td>10</td><td>7</td><td>0.192262</td></tr><tr><td>&quot;DC&quot;</td><td>40</td><td>45</td><td>90</td><td>8</td><td>0.229864</td></tr></tbody></table></div>"
      ],
      "text/plain": [
       "shape: (3, 6)\n",
       "┌───────┬───────────────┬────────────────┬─────────┬─────────────────┬────────────────┐\n",
       "│ Beach ┆ Seal Conf Lvl ┆ Clump Conf Lvl ┆ Overlap ┆ Clump Threshold ┆ Mean Prop Diff │\n",
       "│ ---   ┆ ---           ┆ ---            ┆ ---     ┆ ---             ┆ ---            │\n",
       "│ str   ┆ i64           ┆ i64            ┆ i64     ┆ i64             ┆ f64            │\n",
       "╞═══════╪═══════════════╪════════════════╪═════════╪═════════════════╪════════════════╡\n",
       "│ LS    ┆ 10            ┆ 25             ┆ 90      ┆ 18              ┆ 0.370589       │\n",
       "│ LN    ┆ 40            ┆ 20             ┆ 10      ┆ 7               ┆ 0.192262       │\n",
       "│ DC    ┆ 40            ┆ 45             ┆ 90      ┆ 8               ┆ 0.229864       │\n",
       "└───────┴───────────────┴────────────────┴─────────┴─────────────────┴────────────────┘"
      ]
     },
     "execution_count": 12,
     "metadata": {},
     "output_type": "execute_result"
    }
   ],
   "source": [
    "means.sort('Mean Prop Diff').group_by('Beach').first()"
   ]
  }
 ],
 "metadata": {
  "kernelspec": {
   "display_name": "Python 3",
   "language": "python",
   "name": "python3"
  },
  "language_info": {
   "codemirror_mode": {
    "name": "ipython",
    "version": 3
   },
   "file_extension": ".py",
   "mimetype": "text/x-python",
   "name": "python",
   "nbconvert_exporter": "python",
   "pygments_lexer": "ipython3",
   "version": "3.10.4"
  }
 },
 "nbformat": 4,
 "nbformat_minor": 5
}
